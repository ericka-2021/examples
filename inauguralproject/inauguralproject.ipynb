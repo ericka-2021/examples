{
 "cells": [
  {
   "cell_type": "markdown",
   "metadata": {},
   "source": [
    "# Inaugural Project"
   ]
  },
  {
   "cell_type": "markdown",
   "metadata": {},
   "source": [
    "> **Note the following:** \n",
    "> 1. This is an example of how to structure your **inaugural project**.\n",
    "> 1. Remember the general advice on structuring and commenting your code from [lecture 5](https://numeconcopenhagen.netlify.com/lectures/Workflow_and_debugging).\n",
    "> 1. Remember this [guide](https://www.markdownguide.org/basic-syntax/) on markdown and (a bit of) latex.\n",
    "> 1. Turn on automatic numbering by clicking on the small icon on top of the table of contents in the left sidebar.\n",
    "> 1. The `inauguralproject.py` file includes a function which can be used multiple times in this notebook."
   ]
  },
  {
   "cell_type": "markdown",
   "metadata": {},
   "source": [
    "Imports and set magics:"
   ]
  },
  {
   "cell_type": "code",
   "execution_count": 70,
   "metadata": {},
   "outputs": [
    {
     "name": "stdout",
     "output_type": "stream",
     "text": [
      "The autoreload extension is already loaded. To reload it, use:\n",
      "  %reload_ext autoreload\n"
     ]
    }
   ],
   "source": [
    "import numpy as np\n",
    "from scipy import optimize \n",
    "\n",
    "# autoreload modules when code is run\n",
    "%load_ext autoreload\n",
    "%autoreload 2\n",
    "%reload_ext autoreload\n",
    "\n",
    "# local modules\n",
    "import inauguralproject"
   ]
  },
  {
   "cell_type": "code",
   "execution_count": 71,
   "metadata": {},
   "outputs": [],
   "source": [
    "## parameters of the project\n",
    "\n",
    "# define parameters \n",
    "# m is cash-on-hand could be for housing \n",
    "# c is consumption that is not for housing \n",
    "# h is utility from housing by a measure of its quality \n",
    "# h has constrain of 1) home price ph, and \n",
    "## 2)subject to progressitve taxation and ,ortgage costs, with function tao()\n",
    "# objective is to choose optimal amount of h*, and c* \n",
    "\n",
    "# ph_tilde is public assessment, home are taxes acording to ph_tilde, not ph\n",
    "## ph_tilde is politically set below market value by a factor of mp['epsl']\n",
    "# m is divided between housing costs, tau(), and consumption c, m = tau()+c\n",
    "# equation 4 \n",
    "# first element, r*ph,purchase home with no down-payment and an interest-only mortgage carrying the interest r \n",
    "# second element, tau_g*ph_tilde, base housing tax levied on the assessment, \n",
    "# last element, tau_p*max(ph_tilde-p_bar,0)"
   ]
  },
  {
   "cell_type": "code",
   "execution_count": 72,
   "metadata": {},
   "outputs": [],
   "source": [
    "# # start mp as an empty dictionary, then list the key and values below \n",
    "\n",
    "# mp={}\n",
    "# mp['phi'] = 0.3\n",
    "# mp['epsl'] = 0.5\n",
    "# mp['r'] = 0.03\n",
    "# mp['tau_g'] = 0.012\n",
    "# mp['tau_p'] = 0.004\n",
    "# mp['p_bar'] = 3   \n",
    "# mp['m']=0.5\n",
    "# print(mp)"
   ]
  },
  {
   "cell_type": "code",
   "execution_count": 73,
   "metadata": {},
   "outputs": [],
   "source": [
    "class mp:pass\n",
    "mp.phi=0.3\n",
    "mp.epsi=0.5\n",
    "mp.r=0.03\n",
    "mp.tau_g=0.012\n",
    "mp.tau_p=0.004\n",
    "mp.p_bar=3\n",
    "mp.m=0.5"
   ]
  },
  {
   "cell_type": "code",
   "execution_count": 74,
   "metadata": {},
   "outputs": [],
   "source": [
    "# define the utility function with \n",
    "# equation 1, \n",
    "def tau(ph,ph_tilde):# equation 4 \n",
    "    \n",
    "    ph_tilde = ph*mp.epsl #equation 2\n",
    "    return (mp.r*ph + mp.tau_g*ph_tilde + mp.tau_p*max(ph_tilde-mp.p_bar,0))"
   ]
  },
  {
   "cell_type": "code",
   "execution_count": 75,
   "metadata": {},
   "outputs": [],
   "source": [
    "# given conditions \n",
    "\n",
    "# sol_case1=optimize.minimize_scalar(utility,method='bouded',args=(h,mp))\n"
   ]
  },
  {
   "cell_type": "code",
   "execution_count": 82,
   "metadata": {},
   "outputs": [],
   "source": [
    "#sol_tau=tau(ph,ph_tilde)\n",
    "def utility(c,h,mp): #equation 1\n",
    "    #h = ph # given setting from question one\n",
    "    c = mp.m-tau(ph,ph_tilde) # equation 3 \n",
    "    return (c**(1-mp.phi))*(h**mp.phi) # equation 1, utility function "
   ]
  },
  {
   "cell_type": "code",
   "execution_count": 100,
   "metadata": {},
   "outputs": [],
   "source": [
    "m=np.random.lognormal(-0.4,0.35,100)"
   ]
  },
  {
   "cell_type": "code",
   "execution_count": 102,
   "metadata": {},
   "outputs": [
    {
     "name": "stdout",
     "output_type": "stream",
     "text": [
      "[0.66984528 0.72360303 1.04066405 0.54331687 1.46175767 0.79158123\n",
      " 0.65982995 0.69186328 0.4100418  0.60822657 0.73172051 0.62694592\n",
      " 0.61596532 0.68125591 1.4257611  0.66978367 0.34636501 0.43143433\n",
      " 1.13817958 0.79097782 0.53931645 0.72273776 0.59158169 0.81763614\n",
      " 1.09257319 0.56197376 1.00954596 0.79762207 0.9152321  0.46794223\n",
      " 0.99031559 0.58978342 0.74322163 0.61160173 0.83553852 0.71244217\n",
      " 0.50017042 0.35373163 0.75940921 1.12346953 0.62241508 1.62908578\n",
      " 0.46282325 0.67975096 0.74854743 0.8057579  0.74005744 0.6269871\n",
      " 0.41002511 0.69436357 0.67895847 0.84363555 1.09916666 0.83576568\n",
      " 0.8415884  1.12946185 0.78282584 1.45954075 0.59379352 0.88271942\n",
      " 0.52835851 0.40244361 0.48541055 0.97199811 0.48927981 0.521852\n",
      " 1.00080094 0.46153598 0.9784048  0.62636247 0.84253621 0.53002442\n",
      " 0.63107696 0.81344533 0.78930517 0.65429386 0.60472228 0.457578\n",
      " 1.14657449 0.47241879 0.53029753 0.81323569 0.84848245 0.35404967\n",
      " 0.97773354 0.86227056 1.06305515 0.49348095 0.46202289 0.40935987\n",
      " 1.16805189 0.9556696  0.77679296 1.26782443 0.88359119 1.28296882\n",
      " 0.87589414 0.57837302 0.65635711 0.40695954]\n"
     ]
    }
   ],
   "source": [
    "print(m)"
   ]
  },
  {
   "cell_type": "code",
   "execution_count": 106,
   "metadata": {},
   "outputs": [
    {
     "data": {
      "text/plain": [
       "<matplotlib.collections.PathCollection at 0x7f862e63acd0>"
      ]
     },
     "execution_count": 106,
     "metadata": {},
     "output_type": "execute_result"
    },
    {
     "data": {
      "image/png": "[encoded data removed]",
      "text/plain": [
       "<Figure size 432x288 with 1 Axes>"
      ]
     },
     "metadata": {
      "needs_background": "light"
     },
     "output_type": "display_data"
    }
   ],
   "source": [
    "import matplotlib.pyplot as plt\n",
    "plt.scatter(range(len(m)),m)"
   ]
  },
  {
   "cell_type": "code",
   "execution_count": 107,
   "metadata": {},
   "outputs": [
    {
     "ename": "NameError",
     "evalue": "name 'ph' is not defined",
     "output_type": "error",
     "traceback": [
      "\u001b[0;31m---------------------------------------------------------------------------\u001b[0m",
      "\u001b[0;31mNameError\u001b[0m                                 Traceback (most recent call last)",
      "\u001b[0;32m<ipython-input-107-64af5b05bcda>\u001b[0m in \u001b[0;36m<module>\u001b[0;34m\u001b[0m\n\u001b[0;32m----> 1\u001b[0;31m \u001b[0mobj_fun\u001b[0m\u001b[0;34m=\u001b[0m\u001b[0;34m-\u001b[0m\u001b[0mutility\u001b[0m\u001b[0;34m(\u001b[0m\u001b[0mc\u001b[0m\u001b[0;34m,\u001b[0m\u001b[0mh\u001b[0m\u001b[0;34m,\u001b[0m\u001b[0mmp\u001b[0m\u001b[0;34m)\u001b[0m\u001b[0;34m\u001b[0m\u001b[0;34m\u001b[0m\u001b[0m\n\u001b[0m\u001b[1;32m      2\u001b[0m \u001b[0msol_case1\u001b[0m\u001b[0;34m=\u001b[0m\u001b[0moptimize\u001b[0m\u001b[0;34m.\u001b[0m\u001b[0mminimize_scalar\u001b[0m\u001b[0;34m(\u001b[0m\u001b[0mobj_fun\u001b[0m\u001b[0;34m,\u001b[0m\u001b[0mmethod\u001b[0m\u001b[0;34m=\u001b[0m\u001b[0;34m'bouded'\u001b[0m\u001b[0;34m,\u001b[0m\u001b[0mbounds\u001b[0m\u001b[0;34m=\u001b[0m\u001b[0;34m(\u001b[0m\u001b[0;36m0\u001b[0m\u001b[0;34m,\u001b[0m\u001b[0mmp\u001b[0m\u001b[0;34m[\u001b[0m\u001b[0;34m'm'\u001b[0m\u001b[0;34m]\u001b[0m\u001b[0;34m)\u001b[0m\u001b[0;34m,\u001b[0m\u001b[0margs\u001b[0m\u001b[0;34m=\u001b[0m\u001b[0;34m(\u001b[0m\u001b[0mh\u001b[0m\u001b[0;34m,\u001b[0m\u001b[0mmp\u001b[0m\u001b[0;34m)\u001b[0m\u001b[0;34m)\u001b[0m\u001b[0;34m\u001b[0m\u001b[0;34m\u001b[0m\u001b[0m\n",
      "\u001b[0;32m<ipython-input-82-e81403258d7f>\u001b[0m in \u001b[0;36mutility\u001b[0;34m(c, h, mp)\u001b[0m\n\u001b[1;32m      2\u001b[0m \u001b[0;32mdef\u001b[0m \u001b[0mutility\u001b[0m\u001b[0;34m(\u001b[0m\u001b[0mc\u001b[0m\u001b[0;34m,\u001b[0m\u001b[0mh\u001b[0m\u001b[0;34m,\u001b[0m\u001b[0mmp\u001b[0m\u001b[0;34m)\u001b[0m\u001b[0;34m:\u001b[0m \u001b[0;31m#equation 1\u001b[0m\u001b[0;34m\u001b[0m\u001b[0;34m\u001b[0m\u001b[0m\n\u001b[1;32m      3\u001b[0m     \u001b[0;31m#h = ph # given setting from question one\u001b[0m\u001b[0;34m\u001b[0m\u001b[0;34m\u001b[0m\u001b[0;34m\u001b[0m\u001b[0m\n\u001b[0;32m----> 4\u001b[0;31m     \u001b[0mc\u001b[0m \u001b[0;34m=\u001b[0m \u001b[0mmp\u001b[0m\u001b[0;34m.\u001b[0m\u001b[0mm\u001b[0m\u001b[0;34m-\u001b[0m\u001b[0mtau\u001b[0m\u001b[0;34m(\u001b[0m\u001b[0mph\u001b[0m\u001b[0;34m,\u001b[0m\u001b[0mph_tilde\u001b[0m\u001b[0;34m)\u001b[0m \u001b[0;31m# equation 3\u001b[0m\u001b[0;34m\u001b[0m\u001b[0;34m\u001b[0m\u001b[0m\n\u001b[0m\u001b[1;32m      5\u001b[0m     \u001b[0;32mreturn\u001b[0m \u001b[0;34m(\u001b[0m\u001b[0mc\u001b[0m\u001b[0;34m**\u001b[0m\u001b[0;34m(\u001b[0m\u001b[0;36m1\u001b[0m\u001b[0;34m-\u001b[0m\u001b[0mmp\u001b[0m\u001b[0;34m.\u001b[0m\u001b[0mphi\u001b[0m\u001b[0;34m)\u001b[0m\u001b[0;34m)\u001b[0m\u001b[0;34m*\u001b[0m\u001b[0;34m(\u001b[0m\u001b[0mh\u001b[0m\u001b[0;34m**\u001b[0m\u001b[0mmp\u001b[0m\u001b[0;34m.\u001b[0m\u001b[0mphi\u001b[0m\u001b[0;34m)\u001b[0m \u001b[0;31m# equation 1, utility function\u001b[0m\u001b[0;34m\u001b[0m\u001b[0;34m\u001b[0m\u001b[0m\n",
      "\u001b[0;31mNameError\u001b[0m: name 'ph' is not defined"
     ]
    }
   ],
   "source": [
    "obj_fun=-utility(c,h,mp)\n",
    "sol_case1=optimize.minimize_scalar(obj_fun,method='bouded',bounds=(0,mp['m']),args=(h,mp))"
   ]
  },
  {
   "cell_type": "markdown",
   "metadata": {},
   "source": [
    "# Question 1"
   ]
  },
  {
   "cell_type": "markdown",
   "metadata": {},
   "source": [
    "BRIEFLY EXPLAIN HOW YOU SOLVE THE MODEL."
   ]
  },
  {
   "cell_type": "code",
   "execution_count": null,
   "metadata": {},
   "outputs": [],
   "source": [
    "# add in parameters with numbers or equations \n"
   ]
  },
  {
   "cell_type": "markdown",
   "metadata": {},
   "source": [
    "# Question 2"
   ]
  },
  {
   "cell_type": "code",
   "execution_count": null,
   "metadata": {},
   "outputs": [],
   "source": [
    "# setting\n",
    "N=10000\n",
    "# \n",
    "\n",
    "\n",
    "#allocate numpy arrays \n",
    "shape_tuple = (N1,N2)\n",
    "c_values = np.empty(shape_tuple)\n",
    "h_values = np.empty(shape_tuple)\n",
    "u_values = np.empty(shape_tuple)\n",
    "\n",
    "\n",
    "#fill numpy arrays \n",
    "for i in range(N): #0,1,...,N-1\n",
    "    for j in range(N):\n",
    "        c_values[i,j] = (i/=[])\n",
    "        \n",
    "#np.random.seed(1)"
   ]
  },
  {
   "cell_type": "markdown",
   "metadata": {},
   "source": [
    "# alternative \n",
    "#allocate numpy array \n",
    "c_vec = np.linspace(-100,100,N)\n",
    "h_vec = np.linspace(-100,100,N)\n",
    "\n",
    "# fill numpy array \n",
    "c_grid, h_grid = np.meshgrid(c_vec, h_vec, indexing='ij') #create coordinate matrix\n",
    "c = (c_grid, h_grid) \n",
    "utility_grid = utility(c,h)"
   ]
  },
  {
   "cell_type": "markdown",
   "metadata": {},
   "source": [
    "ADD ANSWER."
   ]
  },
  {
   "cell_type": "code",
   "execution_count": null,
   "metadata": {},
   "outputs": [],
   "source": [
    "# code"
   ]
  },
  {
   "cell_type": "markdown",
   "metadata": {},
   "source": [
    "# Question 3"
   ]
  },
  {
   "cell_type": "markdown",
   "metadata": {},
   "source": [
    "ADD ANSWER."
   ]
  },
  {
   "cell_type": "code",
   "execution_count": null,
   "metadata": {},
   "outputs": [],
   "source": [
    "# code"
   ]
  },
  {
   "cell_type": "markdown",
   "metadata": {},
   "source": [
    "# Question 4"
   ]
  },
  {
   "cell_type": "markdown",
   "metadata": {},
   "source": [
    "ADD ANSWER."
   ]
  },
  {
   "cell_type": "code",
   "execution_count": null,
   "metadata": {},
   "outputs": [],
   "source": [
    "# code\n",
    "mp['epsl']=0.8\n",
    "mp['tau_g']=0.01\n",
    "mp['tau_p']=0.009\n",
    "mp['p_bar']=8 \n"
   ]
  },
  {
   "cell_type": "markdown",
   "metadata": {},
   "source": [
    "# Question 5"
   ]
  },
  {
   "cell_type": "markdown",
   "metadata": {},
   "source": [
    "ADD ANSWER."
   ]
  },
  {
   "cell_type": "code",
   "execution_count": null,
   "metadata": {},
   "outputs": [],
   "source": [
    "# code"
   ]
  },
  {
   "cell_type": "markdown",
   "metadata": {},
   "source": [
    "# Conclusion"
   ]
  },
  {
   "cell_type": "markdown",
   "metadata": {},
   "source": [
    "ADD CONCISE CONLUSION."
   ]
  }
 ],
 "metadata": {
  "kernelspec": {
   "display_name": "Python 3",
   "language": "python",
   "name": "python3"
  },
  "language_info": {
   "codemirror_mode": {
    "name": "ipython",
    "version": 3
   },
   "file_extension": ".py",
   "mimetype": "text/x-python",
   "name": "python",
   "nbconvert_exporter": "python",
   "pygments_lexer": "ipython3",
   "version": "3.8.5"
  },
  "toc-autonumbering": true
 },
 "nbformat": 4,
 "nbformat_minor": 4
}
